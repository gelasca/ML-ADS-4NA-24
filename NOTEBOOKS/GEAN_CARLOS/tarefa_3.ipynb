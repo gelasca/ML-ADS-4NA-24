{
  "nbformat": 4,
  "nbformat_minor": 0,
  "metadata": {
    "colab": {
      "provenance": []
    },
    "kernelspec": {
      "name": "python3",
      "display_name": "Python 3"
    },
    "language_info": {
      "name": "python"
    }
  },
  "cells": [
    {
      "cell_type": "markdown",
      "source": [
        "# Exercício Prático: Classificação de Vinhos - KNN com Variação de Parâmetros\n",
        "## Objetivo\n",
        "Neste exercício, você irá treinar e avaliar um classificador KNN (K-Nearest Neighbors) para prever a classe de vinhos com base em suas características químicas. O dataset contém informações de diferentes tipos de vinhos e está disponível no UCI Machine Learning Repository. O objetivo é explorar o desempenho do classificador com diferentes valores de ( k ) e diferentes seeds (valores de `random_state`) para a divisão dos dados em treino e teste.\n",
        "\n",
        "## Instruções\n",
        "1. Carregamento dos Dados\n",
        "* Carregue os dados do dataset de vinhos da UCI utilizando o código abaixo para garantir a consistência dos nomes das colunas e tipos de dados.\n",
        "```python\n",
        "import pandas as pd\n",
        "# URL do dataset Wine\n",
        "url = 'https://archive.ics.uci.edu/ml/machine-learning-databases/wine/wine.data'\n",
        "# Nome das colunas em português BR\n",
        "column_names_pt_br = [\n",
        "    'classe',\n",
        "    'alcool',\n",
        "    'acido_malico',\n",
        "    'cinzas',\n",
        "    'alcalinidade_de_cinzas',\n",
        "    'magnesio',\n",
        "    'fenois_totais',\n",
        "    'flavanoides',\n",
        "    'fenois_nao_flavanoides',\n",
        "    'proantocianinas',\n",
        "    'intensidade_de_cor',\n",
        "    'matiz',\n",
        "    'od280_od315_de_vinhos_diluidos',\n",
        "    'prolina'\n",
        "]\n",
        "# Ler o arquivo CSV com as colunas especificadas, definindo a coluna 'classe' como object\n",
        "vinhos = pd.read_csv(url, names=column_names_pt_br, dtype={'classe': object})\n",
        "```\n",
        "\n",
        "\n",
        "## Tarefas\n",
        "1. Separação dos Dados em Treino e Teste\n",
        "* Divida o conjunto de dados em treino e teste, utilizando uma proporção de 70% para treino e 30% para teste.\n",
        "* Defina `random_state=42` para garantir a replicabilidade dos resultados.\n",
        "2. Treinamento e Avaliação do Classificador KNN\n",
        "* Treine um classificador KNN com ( k = 3 ) `n_neighbors=3` e avalie sua acurácia no conjunto de teste.\n",
        "* Em seguida, treine um segundo classificador KNN com ( k = 5 ) e avalie sua acurácia no conjunto de teste.\n",
        "* Apresente (print) o valor de `accuracy_score` para cada experimento e para cada modelo com ( k = 3 ) e ( k = 5 ).\n",
        "* Compare os resultados para identificar qual dos modelos (com ( k = 3 ) ou ( k = 5 )) apresenta melhor desempenho.\n",
        "\n",
        "Dica: Use a biblioteca `scikit-learn` para implementar e avaliar o modelo, utilizando `KNeighborsClassifier` para o treinamento e `accuracy_score` para a avaliação.\n",
        "```python\n",
        "from sklearn.neighbors import KNeighborsClassifier\n",
        "from sklearn.metrics import accuracy_score\n",
        "```\n",
        "3. Análise com Diferentes Valores de random_state\n",
        "* Repita o procedimento acima (divisão dos dados, treinamento e avaliação dos modelos com ( k = 3 ) e ( k = 5 )) para os seguintes valores de `random_state`: 17 e 24.\n",
        "* Para cada `random_state`, registre e apresente (print) a acurácia obtida com ( k = 3 ) e ( k = 5 ) e compare os resultados.\n",
        "4. Comparação Final\n",
        "* Ao final, faça uma análise comparativa dos três experimentos, considerando os diferentes valores de `random_state` e de ( k ).\n",
        "* Indique qual configuração de `random_state` e ( k ) obteve o melhor desempenho geral.\n",
        "## Observações\n",
        "* Faça a entrega do código como Notebook (.ipynb).\n",
        "* Use o Google Colab para desenvolvimento e submissão.\n",
        "* Certifique-se de comentar e organizar seu código, e de incluir explicações sobre cada etapa.\n",
        "* Inclua gráficos e tabelas (se necessário) para facilitar a interpretação dos resultados.\n",
        "* Utilize o espaço de discussão desta issue para compartilhar dúvidas ou dificuldades.\n",
        "\n",
        "Boa sorte e bons estudos!"
      ],
      "metadata": {
        "id": "vcpu_DQC9-21"
      }
    },
    {
      "cell_type": "code",
      "execution_count": 9,
      "metadata": {
        "id": "3mp5HGk67pxQ"
      },
      "outputs": [],
      "source": [
        "import pandas as pd\n",
        "# URL do dataset Wine\n",
        "url='https://archive.ics.uci.edu/ml/machine-learning-databases/wine/wine.data'\n",
        "# Nome das colunas em português BR\n",
        "column_names_pt_br=[\n",
        "  'classe',\n",
        "  'alcool',\n",
        "  'acido_malico',\n",
        "  'cinzas',\n",
        "  'alcalinidade_de_cinzas',\n",
        "  'magnesio',\n",
        "  'fenois_totais',\n",
        "  'flavanoides',\n",
        "  'fenois_nao_flavanoides',\n",
        "  'proantocianinas',\n",
        "  'intensidade_de_cor',\n",
        "  'matiz',\n",
        "  'od280_od315_de_vinhos_diluidos',\n",
        "  'prolina'\n",
        "]\n",
        "# Ler o arquivo CSV com as colunas especificadas, definindo a coluna 'classe' como object\n",
        "vinhos=pd.read_csv(url, names=column_names_pt_br, dtype={'classe': object})"
      ]
    },
    {
      "cell_type": "code",
      "source": [
        "from sklearn.model_selection import train_test_split\n",
        "from sklearn.neighbors import KNeighborsClassifier\n",
        "from sklearn.metrics import accuracy_score\n",
        "\n",
        "results=[]\n",
        "\n",
        "X=vinhos[vinhos.columns[1:]]\n",
        "Y=vinhos['classe']\n",
        "\n",
        "for rs in [42,17,24]:\n",
        "  X_train,X_test,Y_train,Y_test=train_test_split(X,Y,test_size=0.3,random_state=rs)\n",
        "  for k in [3,5]:\n",
        "    experiment=dict()\n",
        "    experiment['random_state']=rs\n",
        "    experiment['n_neighbors']=k\n",
        "    model=KNeighborsClassifier(n_neighbors=k)\n",
        "    model.fit(X_train,Y_train)\n",
        "    model.predict(X_test)\n",
        "    accuracy=accuracy_score(Y_test,model.predict(X_test))\n",
        "    experiment['accuracy']=accuracy\n",
        "    results.append(experiment)\n",
        "\n",
        "    print(rs,k,accuracy)"
      ],
      "metadata": {
        "colab": {
          "base_uri": "https://localhost:8080/"
        },
        "id": "_8I7o7AbFHHu",
        "outputId": "9b06cf9b-26ef-4745-b5d1-c2e6563258b6"
      },
      "execution_count": 60,
      "outputs": [
        {
          "output_type": "stream",
          "name": "stdout",
          "text": [
            "42 3 0.7407407407407407\n",
            "42 5 0.7407407407407407\n",
            "17 3 0.6481481481481481\n",
            "17 5 0.6666666666666666\n",
            "24 3 0.7407407407407407\n",
            "24 5 0.6666666666666666\n"
          ]
        }
      ]
    },
    {
      "cell_type": "code",
      "source": [
        "import json\n",
        "results.sort(key=lambda x:x['accuracy'],reverse=True)\n",
        "results_json=json.dumps(results,indent=2)\n",
        "print('Resultados Obtidos:',\n",
        "  results_json)"
      ],
      "metadata": {
        "colab": {
          "base_uri": "https://localhost:8080/"
        },
        "id": "sL-dgqqWQNEV",
        "outputId": "fdabf0cf-44a0-4edb-8512-98f0946ca90a"
      },
      "execution_count": 69,
      "outputs": [
        {
          "output_type": "stream",
          "name": "stdout",
          "text": [
            "Resultados Obtidos: [\n",
            "  {\n",
            "    \"random_state\": 42,\n",
            "    \"n_neighbors\": 3,\n",
            "    \"accuracy\": 0.7407407407407407\n",
            "  },\n",
            "  {\n",
            "    \"random_state\": 42,\n",
            "    \"n_neighbors\": 5,\n",
            "    \"accuracy\": 0.7407407407407407\n",
            "  },\n",
            "  {\n",
            "    \"random_state\": 24,\n",
            "    \"n_neighbors\": 3,\n",
            "    \"accuracy\": 0.7407407407407407\n",
            "  },\n",
            "  {\n",
            "    \"random_state\": 17,\n",
            "    \"n_neighbors\": 5,\n",
            "    \"accuracy\": 0.6666666666666666\n",
            "  },\n",
            "  {\n",
            "    \"random_state\": 24,\n",
            "    \"n_neighbors\": 5,\n",
            "    \"accuracy\": 0.6666666666666666\n",
            "  },\n",
            "  {\n",
            "    \"random_state\": 17,\n",
            "    \"n_neighbors\": 3,\n",
            "    \"accuracy\": 0.6481481481481481\n",
            "  }\n",
            "]\n"
          ]
        }
      ]
    },
    {
      "cell_type": "code",
      "source": [
        "from collections import Counter\n",
        "nth_highest=list(Counter(result['accuracy'] for result in results).values())[0]\n",
        "highest_results=results[:nth_Highest]\n",
        "highest_results_json=json.dumps(highest_results,indent=2)\n",
        "print('Melhores Configurações para Treino:',\n",
        "      highest_results_json)"
      ],
      "metadata": {
        "colab": {
          "base_uri": "https://localhost:8080/"
        },
        "id": "kFpFn1CVRpzr",
        "outputId": "59a4d246-648b-480f-9ae3-88342ab399c6"
      },
      "execution_count": 88,
      "outputs": [
        {
          "output_type": "stream",
          "name": "stdout",
          "text": [
            "Melhores Configurações para Treino: [\n",
            "  {\n",
            "    \"random_state\": 42,\n",
            "    \"n_neighbors\": 3,\n",
            "    \"accuracy\": 0.7407407407407407\n",
            "  },\n",
            "  {\n",
            "    \"random_state\": 42,\n",
            "    \"n_neighbors\": 5,\n",
            "    \"accuracy\": 0.7407407407407407\n",
            "  },\n",
            "  {\n",
            "    \"random_state\": 24,\n",
            "    \"n_neighbors\": 3,\n",
            "    \"accuracy\": 0.7407407407407407\n",
            "  }\n",
            "]\n"
          ]
        }
      ]
    }
  ]
}